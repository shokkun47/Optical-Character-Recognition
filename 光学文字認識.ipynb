{
 "cells": [
  {
   "cell_type": "code",
   "execution_count": 18,
   "id": "dc28b246-4df3-4407-896b-43642987fb18",
   "metadata": {},
   "outputs": [
    {
     "name": "stdout",
     "output_type": "stream",
     "text": [
      "吾 机 は 猫 で ある\n",
      "\n",
      "EEE\n",
      "\n",
      "市 宋 は 仙 で ある 。 名 導 は まだ たい\n",
      "\n",
      "どこで 生れ た か と ん と 見 雪が つか 。 休 で も 月 絆 いし めじ めし た 所 で ニャ ー ニ キー いて いた まだ\n",
      "け は 記 培 し て いる 。 青 間 は ここ で 導 め て 人 間 と いう も の を 見 た 。 し か も あと で 関 く と それ は 者 生 と い\n",
      "う 人 占 中 で 一 内 意 な 夫 准 で あっ た そう だ 。 この 再生 と いう の は 時 4 え 信 え を 盾 えて で 天 て 食 うと いう\n",
      "語 で ある 。 し か し その 当時 は 何と いう 作 も な か っ た か ら 列 恨 短 し いと も 6 還 わ な か っ た 。 た だ 攻 の\n",
      "せら れ で スー と 枯 3 も 上 げ ら れ た 時 何だ か フワ フワ し た 放し じ か が あ っ た ば か り で ある 。 学 の 上 で タレ\n",
      "吾 ち つい て 青年 の を 見 た の が いち ゆる 人 間 と いう 6 の の 見 絡 で あろ う 。 この 時 ゆな も の だ と まっ\n",
      "た 只今 で も 思っ て いる 。 弟 一 モ を も っ て 江 介 きれ べき は ず の 右 が つる つる し て まる で 梨 人 だ 。 そ\n",
      "の 析 当 に も だい 玉 っ た が こん な 及 欄 に は 一 も 由 会 わし た 事 が な い 。 の みな ら ず 名 の 中 が あま\n",
      "の に 己 し て いる 。 そう し て その 大 の 中 か ら 時 4 よう うと 灯 を 天 く 。 どうも 昌 せ ばく て 実に 問 っ た 。\n",
      "人間 の 棒 も 灯 区 と いう も の で ある 事 は よう やく この 頃 天 っ た 。\n",
      "\n",
      "\n"
     ]
    }
   ],
   "source": [
    "import pytesseract\n",
    "from PIL import Image\n",
    "\n",
    "# Tesseractのパスを設定\n",
    "pytesseract.pytesseract.tesseract_cmd = r'C:\\Program Files\\Tesseract-OCR\\tesseract.exe'\n",
    "\n",
    "# 画像ファイルを開く\n",
    "image = Image.open(\"images/image1.png\")\n",
    "\n",
    "# OCRを実行してテキストを取得\n",
    "text = pytesseract.image_to_string(image, lang='jpn')\n",
    "\n",
    "# 認識されたテキストを表示\n",
    "print(text)\n"
   ]
  },
  {
   "cell_type": "code",
   "execution_count": null,
   "id": "ebd04951-10ad-4ee6-90be-8b462f2dc73f",
   "metadata": {},
   "outputs": [],
   "source": []
  }
 ],
 "metadata": {
  "kernelspec": {
   "display_name": "Python 3 (ipykernel)",
   "language": "python",
   "name": "python3"
  },
  "language_info": {
   "codemirror_mode": {
    "name": "ipython",
    "version": 3
   },
   "file_extension": ".py",
   "mimetype": "text/x-python",
   "name": "python",
   "nbconvert_exporter": "python",
   "pygments_lexer": "ipython3",
   "version": "3.12.4"
  }
 },
 "nbformat": 4,
 "nbformat_minor": 5
}
